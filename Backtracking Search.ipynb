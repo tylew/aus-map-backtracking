{
 "cells": [
  {
   "cell_type": "markdown",
   "id": "3277e1d3",
   "metadata": {},
   "source": [
    "## Excerpt from book:\n",
    "```\n",
    "function BACKTRACKING-SEARCH(csp) returns a solution, or failure return BACKTRACK({ }, csp)\n",
    "function BACKTRACK(assignment,csp) returns a solution, or failure\n",
    "if assignment is complete then return assignment\n",
    "var ← SELECT-UNASSIGNED-VARIABLE(csp)\n",
    "for each value in ORDER-DOMAIN-VALUES(var,assignment,csp) do\n",
    "ifvalueisconsistentwithassignment then add {var = value} to assignment inferences ←INFERENCE(csp,var,value) if inferences ̸= failure then\n",
    "add inferences to assignment\n",
    "result ← BACKTRACK(assignment, csp) if result ̸= failure then\n",
    "return result\n",
    "remove {var = value} and inferences from assignment\n",
    "return failure\n",
    "```"
   ]
  },
  {
   "cell_type": "code",
   "execution_count": 1,
   "id": "4827b150",
   "metadata": {},
   "outputs": [],
   "source": [
    "# Define the map of Australia and its neighboring regions\n",
    "australia_map = {\n",
    "    'WA': ['NT', 'SA'],\n",
    "    'NT': ['WA', 'SA', 'Q'],\n",
    "    'SA': ['WA', 'NT', 'Q', 'NSW', 'V'],\n",
    "    'Q': ['NT', 'SA', 'NSW'],\n",
    "    'NSW': ['Q', 'SA', 'V'],\n",
    "    'V': ['SA', 'NSW'],\n",
    "    'T': []\n",
    "}\n",
    "\n",
    "# Define the colors to be used\n",
    "colors = ['red', 'green', 'blue']"
   ]
  },
  {
   "cell_type": "code",
   "execution_count": 2,
   "id": "3942d918",
   "metadata": {},
   "outputs": [],
   "source": [
    "# Check if the color is valid for the given region considering its neighbors\n",
    "def is_valid_color(region, color, color_map):\n",
    "    for neighbor in australia_map[region]:\n",
    "        if color_map.get(neighbor) == color:\n",
    "            return False\n",
    "    return True"
   ]
  },
  {
   "cell_type": "code",
   "execution_count": 3,
   "id": "7ee8bff1",
   "metadata": {},
   "outputs": [],
   "source": [
    "# Recursive function to solve coloring using backtracking approach\n",
    "def color_map_recursive(region_index, color_map):\n",
    "    # If all regions are colored, the solution is found\n",
    "    if len(color_map) == len(australia_map):\n",
    "        return color_map\n",
    "\n",
    "    region = list(australia_map.keys())[region_index]\n",
    "\n",
    "    # Try each color for the current region\n",
    "    for color in colors:\n",
    "        if is_valid_color(region, color, color_map):\n",
    "            # Assign the color to the region\n",
    "            color_map[region] = color\n",
    "\n",
    "            # Move to the next region\n",
    "            if color_map_recursive(region_index + 1, color_map):\n",
    "                return color_map\n",
    "\n",
    "            # If it's not possible to color the map, backtrack by removing the color assignment\n",
    "            del color_map[region]\n",
    "\n",
    "    return None"
   ]
  },
  {
   "cell_type": "code",
   "execution_count": 4,
   "id": "6d59517c",
   "metadata": {},
   "outputs": [
    {
     "name": "stdout",
     "output_type": "stream",
     "text": [
      "Solution found:\n",
      "WA: red\n",
      "NT: green\n",
      "SA: blue\n",
      "Q: red\n",
      "NSW: green\n",
      "V: red\n",
      "T: red\n"
     ]
    }
   ],
   "source": [
    "# Start the backtracking algorithm\n",
    "start_region_index = 0\n",
    "result = color_map_recursive(start_region_index, {})\n",
    "\n",
    "if result:\n",
    "    print(\"Solution found:\")\n",
    "    for region, color in result.items():\n",
    "        print(f\"{region}: {color}\")\n",
    "else:\n",
    "    print(\"No solution found.\")"
   ]
  },
  {
   "cell_type": "code",
   "execution_count": null,
   "id": "f4dafc07-c6fa-4249-8b0c-4a97906539c4",
   "metadata": {},
   "outputs": [],
   "source": []
  }
 ],
 "metadata": {
  "kernelspec": {
   "display_name": "Python 3 (ipykernel)",
   "language": "python",
   "name": "python3"
  },
  "language_info": {
   "codemirror_mode": {
    "name": "ipython",
    "version": 3
   },
   "file_extension": ".py",
   "mimetype": "text/x-python",
   "name": "python",
   "nbconvert_exporter": "python",
   "pygments_lexer": "ipython3",
   "version": "3.10.9"
  }
 },
 "nbformat": 4,
 "nbformat_minor": 5
}
